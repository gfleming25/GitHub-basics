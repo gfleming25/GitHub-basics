{
 "cells": [
  {
   "cell_type": "code",
   "execution_count": 60,
   "id": "45309d2a-390f-4dbe-b005-7d09e97ab8c0",
   "metadata": {},
   "outputs": [],
   "source": [
    "import random\n",
    "def hangman():\n",
    "    wordList = [\"hotdog\", \"car\", \"cat\"]\n",
    "    choice = wordList[int(len(wordList)*random.random())]\n",
    "    letterList = [\"a\",\"b\", \"c\", \"d\", \"e\", \"f\", \"g\", \"h\", \"i\", \"j\", \"k\", \"l\", \"m\", \"n\", \"o\", \"p\", \"q\", \"r\", \"s\", \"t\", \"u\", \"v\", \"w\", \"x\", \"y\", \"z\"]\n",
    "    answer = []\n",
    "    wordLetters  = []\n",
    "    tries = 7\n",
    "    indexBoost = 0\n",
    "    \n",
    "    for i in choice:\n",
    "        answer.append(\"_\")   \n",
    "        wordLetters.append(i)\n",
    "    print(wordLetters)\n",
    "        \n",
    "    while True:\n",
    "        print(answer)\n",
    "        word = \"\"\n",
    "        for letter3 in answer:\n",
    "            word+=letter3\n",
    "        if word == choice:\n",
    "            return('word guessed. congrats')\n",
    "        print(tries)\n",
    "        if tries == 0:\n",
    "            return (\"Too many tries guessed\")\n",
    "        print(\"input letter in lowercase\")\n",
    "        letter = input()\n",
    "        if letter in wordLetters:\n",
    "            answer[wordLetters.index(letter)+indexBoost] = letter\n",
    "            wordLetters.remove(letter)\n",
    "            indexBoost+=1;\n",
    "            print(\"correct\")\n",
    "        else:\n",
    "            print(\"incorrect\")\n",
    "            tries-=1;\n",
    "            \n",
    "        "
   ]
  },
  {
   "cell_type": "code",
   "execution_count": 61,
   "id": "ebc9643d-0857-436f-a35d-3a903dc5b48b",
   "metadata": {},
   "outputs": [
    {
     "name": "stdout",
     "output_type": "stream",
     "text": [
      "['h', 'o', 't', 'd', 'o', 'g']\n",
      "['_', '_', '_', '_', '_', '_']\n",
      "7\n",
      "input letter in lowercase\n"
     ]
    },
    {
     "name": "stdin",
     "output_type": "stream",
     "text": [
      " h\n"
     ]
    },
    {
     "name": "stdout",
     "output_type": "stream",
     "text": [
      "correct\n",
      "['h', '_', '_', '_', '_', '_']\n",
      "7\n",
      "input letter in lowercase\n"
     ]
    },
    {
     "name": "stdin",
     "output_type": "stream",
     "text": [
      " o\n"
     ]
    },
    {
     "name": "stdout",
     "output_type": "stream",
     "text": [
      "correct\n",
      "['h', 'o', '_', '_', '_', '_']\n",
      "7\n",
      "input letter in lowercase\n"
     ]
    },
    {
     "name": "stdin",
     "output_type": "stream",
     "text": [
      " t\n"
     ]
    },
    {
     "name": "stdout",
     "output_type": "stream",
     "text": [
      "correct\n",
      "['h', 'o', 't', '_', '_', '_']\n",
      "7\n",
      "input letter in lowercase\n"
     ]
    },
    {
     "name": "stdin",
     "output_type": "stream",
     "text": [
      " d\n"
     ]
    },
    {
     "name": "stdout",
     "output_type": "stream",
     "text": [
      "correct\n",
      "['h', 'o', 't', 'd', '_', '_']\n",
      "7\n",
      "input letter in lowercase\n"
     ]
    },
    {
     "name": "stdin",
     "output_type": "stream",
     "text": [
      " o\n"
     ]
    },
    {
     "name": "stdout",
     "output_type": "stream",
     "text": [
      "correct\n",
      "['h', 'o', 't', 'd', 'o', '_']\n",
      "7\n",
      "input letter in lowercase\n"
     ]
    },
    {
     "name": "stdin",
     "output_type": "stream",
     "text": [
      " g\n"
     ]
    },
    {
     "name": "stdout",
     "output_type": "stream",
     "text": [
      "correct\n",
      "['h', 'o', 't', 'd', 'o', 'g']\n"
     ]
    },
    {
     "data": {
      "text/plain": [
       "'word guessed. congrats'"
      ]
     },
     "execution_count": 61,
     "metadata": {},
     "output_type": "execute_result"
    }
   ],
   "source": [
    "hangman()\n"
   ]
  },
  {
   "cell_type": "code",
   "execution_count": null,
   "id": "a565fa0f-d6a8-4fa2-8859-f3e1f245a7c2",
   "metadata": {},
   "outputs": [],
   "source": []
  }
 ],
 "metadata": {
  "kernelspec": {
   "display_name": "Python 3 (ipykernel)",
   "language": "python",
   "name": "python3"
  },
  "language_info": {
   "codemirror_mode": {
    "name": "ipython",
    "version": 3
   },
   "file_extension": ".py",
   "mimetype": "text/x-python",
   "name": "python",
   "nbconvert_exporter": "python",
   "pygments_lexer": "ipython3",
   "version": "3.11.9"
  }
 },
 "nbformat": 4,
 "nbformat_minor": 5
}
